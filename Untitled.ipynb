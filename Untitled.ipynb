{
 "cells": [
  {
   "cell_type": "code",
   "execution_count": 7,
   "id": "d8565af6",
   "metadata": {},
   "outputs": [
    {
     "name": "stdout",
     "output_type": "stream",
     "text": [
      "[1 2 3]\n"
     ]
    },
    {
     "data": {
      "text/plain": [
       "dtype('int64')"
      ]
     },
     "execution_count": 7,
     "metadata": {},
     "output_type": "execute_result"
    }
   ],
   "source": [
    "import numpy as np\n",
    "\n",
    "a = np.array([1,2,3])\n",
    "print(a)\n",
    "a.ndim\n",
    "a.dtype"
   ]
  },
  {
   "cell_type": "code",
   "execution_count": 14,
   "id": "9a54a78e",
   "metadata": {},
   "outputs": [
    {
     "name": "stdout",
     "output_type": "stream",
     "text": [
      "[[1 2 3 4]\n",
      " [5 6 7 8]]\n"
     ]
    },
    {
     "data": {
      "text/plain": [
       "32"
      ]
     },
     "execution_count": 14,
     "metadata": {},
     "output_type": "execute_result"
    }
   ],
   "source": [
    "import numpy as np\n",
    "b = np.array([[1.0,2.0,3.0,4.0],[5,6,7,8,]],dtype='int32')\n",
    "print(b)\n",
    "b.ndim\n",
    "b.shape\n",
    "b.nbytes\n"
   ]
  },
  {
   "cell_type": "code",
   "execution_count": 39,
   "id": "3ddfc6cc",
   "metadata": {},
   "outputs": [
    {
     "name": "stdout",
     "output_type": "stream",
     "text": [
      "11\n",
      "[ 1  2  3  4 23 45 12]\n",
      "[4 8]\n",
      "[ 1  3 23]\n",
      "[[ 1  2  3  4 23 45 12]\n",
      " [ 5  6 40  8 10 11 21]]\n",
      "[[ 1  3  3  4 23 45 12]\n",
      " [ 5  9 40  8 10 11 21]]\n"
     ]
    }
   ],
   "source": [
    "import numpy as np\n",
    "c = np.array([[1,2,3,4,23,45,12],[5,6,7,8,10,11,21]])\n",
    "print(c[1,5])\n",
    "print(c[0,:])\n",
    "print(c[:,3])\n",
    "print(c[0,0:6:2]) #[start:end:stepsize]\n",
    "c[1,2] = 40 #change an element\n",
    "print(c)\n",
    "c[:,1] = [3,9]\n",
    "print(c)"
   ]
  },
  {
   "cell_type": "code",
   "execution_count": 11,
   "id": "4665fc50",
   "metadata": {},
   "outputs": [
    {
     "name": "stdout",
     "output_type": "stream",
     "text": [
      "[[[1 2]\n",
      "  [3 4]]\n",
      "\n",
      " [[4 5]\n",
      "  [6 7]]]\n",
      "[6 7]\n",
      "[5 7]\n",
      "[[1 2]\n",
      " [3 4]]\n",
      "[[1 2]\n",
      " [4 5]]\n"
     ]
    }
   ],
   "source": [
    "#3-d array\n",
    "import numpy as np\n",
    "a = np.array([[[1,2],[3,4]],[[4,5],[6,7]]])\n",
    "print(a)\n",
    "print(a[1,1,:])\n",
    "print(a[1,:,1])\n",
    "print(a[0])\n",
    "print(a[:,0,:])"
   ]
  },
  {
   "cell_type": "code",
   "execution_count": 41,
   "id": "6ef950fa",
   "metadata": {},
   "outputs": [
    {
     "name": "stdout",
     "output_type": "stream",
     "text": [
      "[[0 0 0]\n",
      " [0 0 0]]\n",
      "[[1. 1. 1.]\n",
      " [1. 1. 1.]]\n",
      "[[4 4 4 4]\n",
      " [4 4 4 4]]\n",
      "[[10 10 10 10]\n",
      " [10 10 10 10]]\n",
      "[[0.67589719 0.36196529 0.54090871]\n",
      " [0.46207628 0.75724868 0.26748456]\n",
      " [0.2296955  0.45458355 0.78819913]\n",
      " [0.57610206 0.88760339 0.22754146]]\n",
      "[[6 4 3]\n",
      " [5 5 6]]\n",
      "[[1. 0. 0. 0. 0.]\n",
      " [0. 1. 0. 0. 0.]\n",
      " [0. 0. 1. 0. 0.]\n",
      " [0. 0. 0. 1. 0.]\n",
      " [0. 0. 0. 0. 1.]]\n"
     ]
    }
   ],
   "source": [
    "#initializing different types of array\n",
    "import numpy as np\n",
    "a = np.zeros((2,3),dtype = \"int32\")\n",
    "print(a)\n",
    "b = np.ones((2,3))\n",
    "print(b)\n",
    "c = np.full((2,4),4)\n",
    "print(c)\n",
    "d = np.full_like(c,10)\n",
    "print(d)\n",
    "random = np.random.rand(4,3)\n",
    "print(random)\n",
    "\n",
    "e = np.random.randint(3,7,size=(2,3))\n",
    "print(e)\n",
    "\n",
    "identity = np.identity(5)\n",
    "print(identity)"
   ]
  },
  {
   "cell_type": "code",
   "execution_count": 52,
   "id": "4db6d77b",
   "metadata": {},
   "outputs": [
    {
     "name": "stdout",
     "output_type": "stream",
     "text": [
      "[[1 2 3]\n",
      " [1 2 3]\n",
      " [1 2 3]]\n"
     ]
    }
   ],
   "source": [
    "#Repeat an array\n",
    "arr = np.array([[1,2,3]])\n",
    "r1 = np.repeat(arr,3,axis=0)\n",
    "print(r1)"
   ]
  },
  {
   "cell_type": "code",
   "execution_count": 7,
   "id": "342ef3e7",
   "metadata": {},
   "outputs": [
    {
     "name": "stdout",
     "output_type": "stream",
     "text": [
      "[[1 1 1 1 1]\n",
      " [1 1 1 1 1]\n",
      " [1 1 1 1 1]\n",
      " [1 1 1 1 1]\n",
      " [1 1 1 1 1]]\n",
      "[[0 0 0]\n",
      " [0 9 0]\n",
      " [0 0 0]]\n",
      "[[1 1 1 1 1]\n",
      " [1 0 0 0 1]\n",
      " [1 0 9 0 1]\n",
      " [1 0 0 0 1]\n",
      " [1 1 1 1 1]]\n"
     ]
    }
   ],
   "source": [
    "import numpy as np\n",
    "a = np.ones((5,5), dtype=\"int32\")\n",
    "print(a)\n",
    "z = np.zeros((3,3), dtype =\"int32\")\n",
    "z[1,1]= 9\n",
    "print(z)\n",
    "a[1:4,1:4] = z\n",
    "print(a)"
   ]
  },
  {
   "cell_type": "code",
   "execution_count": 11,
   "id": "01498acd",
   "metadata": {},
   "outputs": [
    {
     "name": "stdout",
     "output_type": "stream",
     "text": [
      "[1 2 3]\n",
      "[1 2 3]\n",
      "[100   2   3]\n"
     ]
    }
   ],
   "source": [
    "import numpy as np\n",
    "a = np.array([1,2,3])\n",
    "b = a.copy()\n",
    "print(a)\n",
    "print(b)\n",
    "b[0] = 100\n",
    "print(b)"
   ]
  },
  {
   "cell_type": "code",
   "execution_count": 15,
   "id": "cdb03c93",
   "metadata": {},
   "outputs": [
    {
     "name": "stdout",
     "output_type": "stream",
     "text": [
      "[1 2 3]\n",
      "[3 4 5]\n",
      "[2 4 6]\n",
      "[0.5 1.  1.5]\n",
      "[-1  0  1]\n"
     ]
    }
   ],
   "source": [
    "#Mathmatics\n",
    "import numpy as np\n",
    "a = np.array([1,2,3])\n",
    "print(a)\n",
    "print(a+2)\n",
    "print(a*2)\n",
    "print(a/2)\n",
    "print(a-2)"
   ]
  },
  {
   "cell_type": "code",
   "execution_count": 23,
   "id": "bb548144",
   "metadata": {},
   "outputs": [
    {
     "name": "stdout",
     "output_type": "stream",
     "text": [
      "[[1 2 3]\n",
      " [4 5 6]]\n",
      "[3 4 5]\n",
      "[4 7]\n"
     ]
    }
   ],
   "source": [
    "#Mathmatics\n",
    "import numpy as np\n",
    "a = np.array([[1,2,3],[4,5,6]])\n",
    "print(a)\n",
    "print(a[0,:]+2)\n",
    "print(a[:,1]+2)"
   ]
  },
  {
   "cell_type": "code",
   "execution_count": 10,
   "id": "9d98c5ea",
   "metadata": {},
   "outputs": [
    {
     "name": "stdout",
     "output_type": "stream",
     "text": [
      "[[ 1  7  3]\n",
      " [15  5  6]]\n",
      "1\n",
      "[ 7 15]\n",
      "[15  7  6]\n"
     ]
    }
   ],
   "source": [
    "#Statistics\n",
    "import numpy as np\n",
    "a = np.array([[1,7,3],[15,5,6]])\n",
    "a_min = np.min(a)\n",
    "print(a)\n",
    "print(a_min)\n",
    "print(np.max(a,axis =1))\n",
    "print(np.max(a,axis =0))"
   ]
  },
  {
   "cell_type": "code",
   "execution_count": null,
   "id": "2745f9c6",
   "metadata": {},
   "outputs": [],
   "source": []
  }
 ],
 "metadata": {
  "kernelspec": {
   "display_name": "Python 3",
   "language": "python",
   "name": "python3"
  },
  "language_info": {
   "codemirror_mode": {
    "name": "ipython",
    "version": 3
   },
   "file_extension": ".py",
   "mimetype": "text/x-python",
   "name": "python",
   "nbconvert_exporter": "python",
   "pygments_lexer": "ipython3",
   "version": "3.8.10"
  }
 },
 "nbformat": 4,
 "nbformat_minor": 5
}
