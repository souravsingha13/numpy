{
 "cells": [
  {
   "cell_type": "code",
   "execution_count": 7,
   "id": "d8565af6",
   "metadata": {},
   "outputs": [
    {
     "name": "stdout",
     "output_type": "stream",
     "text": [
      "[1 2 3]\n"
     ]
    },
    {
     "data": {
      "text/plain": [
       "dtype('int64')"
      ]
     },
     "execution_count": 7,
     "metadata": {},
     "output_type": "execute_result"
    }
   ],
   "source": [
    "import numpy as np\n",
    "\n",
    "a = np.array([1,2,3])\n",
    "print(a)\n",
    "a.ndim\n",
    "a.dtype"
   ]
  },
  {
   "cell_type": "code",
   "execution_count": 14,
   "id": "9a54a78e",
   "metadata": {},
   "outputs": [
    {
     "name": "stdout",
     "output_type": "stream",
     "text": [
      "[[1 2 3 4]\n",
      " [5 6 7 8]]\n"
     ]
    },
    {
     "data": {
      "text/plain": [
       "32"
      ]
     },
     "execution_count": 14,
     "metadata": {},
     "output_type": "execute_result"
    }
   ],
   "source": [
    "import numpy as np\n",
    "b = np.array([[1.0,2.0,3.0,4.0],[5,6,7,8,]],dtype='int32')\n",
    "print(b)\n",
    "b.ndim\n",
    "b.shape\n",
    "b.nbytes\n"
   ]
  },
  {
   "cell_type": "code",
   "execution_count": 39,
   "id": "3ddfc6cc",
   "metadata": {},
   "outputs": [
    {
     "name": "stdout",
     "output_type": "stream",
     "text": [
      "11\n",
      "[ 1  2  3  4 23 45 12]\n",
      "[4 8]\n",
      "[ 1  3 23]\n",
      "[[ 1  2  3  4 23 45 12]\n",
      " [ 5  6 40  8 10 11 21]]\n",
      "[[ 1  3  3  4 23 45 12]\n",
      " [ 5  9 40  8 10 11 21]]\n"
     ]
    }
   ],
   "source": [
    "import numpy as np\n",
    "c = np.array([[1,2,3,4,23,45,12],[5,6,7,8,10,11,21]])\n",
    "print(c[1,5])\n",
    "print(c[0,:])\n",
    "print(c[:,3])\n",
    "print(c[0,0:6:2]) #[start:end:stepsize]\n",
    "c[1,2] = 40 #change an element\n",
    "print(c)\n",
    "c[:,1] = [3,9]\n",
    "print(c)"
   ]
  },
  {
   "cell_type": "code",
   "execution_count": null,
   "id": "4665fc50",
   "metadata": {},
   "outputs": [],
   "source": []
  }
 ],
 "metadata": {
  "kernelspec": {
   "display_name": "Python 3",
   "language": "python",
   "name": "python3"
  },
  "language_info": {
   "codemirror_mode": {
    "name": "ipython",
    "version": 3
   },
   "file_extension": ".py",
   "mimetype": "text/x-python",
   "name": "python",
   "nbconvert_exporter": "python",
   "pygments_lexer": "ipython3",
   "version": "3.8.10"
  }
 },
 "nbformat": 4,
 "nbformat_minor": 5
}
